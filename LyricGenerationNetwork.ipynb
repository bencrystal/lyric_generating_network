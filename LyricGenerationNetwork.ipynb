{
 "cells": [
  {
   "cell_type": "code",
   "execution_count": 2,
   "metadata": {},
   "outputs": [
    {
     "name": "stdout",
     "output_type": "stream",
     "text": [
      "Once deleted, variables cannot be recovered. Proceed (y/[n])? y\n"
     ]
    },
    {
     "name": "stderr",
     "output_type": "stream",
     "text": [
      "ERROR:root:Invalid alias: The name clear can't be aliased because it is another magic command.\n",
      "ERROR:root:Invalid alias: The name more can't be aliased because it is another magic command.\n",
      "ERROR:root:Invalid alias: The name less can't be aliased because it is another magic command.\n",
      "ERROR:root:Invalid alias: The name man can't be aliased because it is another magic command.\n"
     ]
    }
   ],
   "source": [
    "%reset"
   ]
  },
  {
   "cell_type": "markdown",
   "metadata": {},
   "source": [
    "Import libraries."
   ]
  },
  {
   "cell_type": "code",
   "execution_count": 6,
   "metadata": {},
   "outputs": [],
   "source": [
    "#GPU Compatible Imports\n",
    "import tensorflow as tf\n",
    "import lyricsgenius\n",
    "import numpy as np\n",
    "from nltk.tokenize import sent_tokenize, word_tokenize\n",
    "from tensorflow.python.keras import optimizers\n",
    "from tensorflow.python.keras.layers import LSTM, Dropout, Dense, Bidirectional\n",
    "from tensorflow.python.keras.models import Sequential\n",
    "from tensorflow.python.keras.callbacks import ModelCheckpoint\n",
    "from tensorflow.python.keras.utils import to_categorical\n"
   ]
  },
  {
   "cell_type": "markdown",
   "metadata": {},
   "source": [
    "Search top 10 most popular songs by artist."
   ]
  },
  {
   "cell_type": "code",
   "execution_count": 7,
   "metadata": {},
   "outputs": [
    {
     "name": "stdout",
     "output_type": "stream",
     "text": [
      "Searching for songs by Bob Dylan...\n",
      "\n",
      "Song 1: \"Blowin' in the Wind\"\n",
      "Song 2: \"Make You Feel My Love\"\n",
      "Song 3: \"All Along the Watchtower\"\n",
      "Song 4: \"The Times They Are A-Changin'\"\n",
      "Song 5: \"Like a Rolling Stone\"\n",
      "Song 6: \"Hurricane\"\n",
      "Song 7: \"Don't Think Twice, It's All Right\"\n",
      "Song 8: \"Mr. Tambourine Man\"\n",
      "Song 9: \"Tempest\"\n",
      "Song 10: \"Subterranean Homesick Blues\"\n",
      "Song 11: \"Masters of War\"\n",
      "Song 12: \"To Fall In Love With You\"\n",
      "Song 13: \"Desolation Row\"\n",
      "Song 14: \"Tangled Up in Blue\"\n",
      "Song 15: \"A Hard Rain's a-Gonna Fall\"\n",
      "Song 16: \"Knockin' On Heaven's Door\"\n",
      "Song 17: \"It's Alright, Ma (I'm Only Bleeding)\"\n",
      "Song 18: \"It's All Over Now, Baby Blue\"\n",
      "Song 19: \"Girl from the North Country\"\n",
      "Song 20: \"Visions Of Johanna\"\n",
      "Song 21: \"Duquesne Whistle\"\n",
      "Song 22: \"Lay Lady Lay\"\n",
      "Song 23: \"Ballad of a Thin Man\"\n",
      "Song 24: \"Shelter From The Storm\"\n",
      "Song 25: \"Idiot Wind\"\n",
      "Song 26: \"My Back Pages\"\n",
      "Song 27: \"Boots of Spanish Leather\"\n",
      "Song 28: \"Forever Young (Slow Version)\"\n",
      "Song 29: \"It Ain't Me, Babe\"\n",
      "Song 30: \"Roll On John\"\n",
      "Song 31: \"Just Like A Woman\"\n",
      "Song 32: \"Simple Twist of Fate\"\n",
      "Song 33: \"Rainy Day Women #12 & 35\"\n",
      "Song 34: \"Highway 61 Revisited\"\n",
      "Song 35: \"Tombstone Blues\"\n",
      "Song 36: \"I Want You\"\n",
      "Song 37: \"Stuck Inside of Mobile with the Memphis Blues Again\"\n",
      "Song 38: \"Pay In Blood\"\n",
      "Song 39: \"Love Minus Zero/No Limit\"\n",
      "Song 40: \"Scarlet Town\"\n",
      "\n",
      "Reached user-specified song limit (40).\n",
      "Done. Found 40 songs.\n"
     ]
    }
   ],
   "source": [
    "#Using lyricsgenius package to load in artist and number of songs\n",
    "artist = \"Bob Dylan\"\n",
    "max_songs = 40\n",
    "genius = lyricsgenius.Genius(\"aQ7lefZGur5adkObCa4UZE9olb-x-xxXeyxHPyyL8k0r6jejtCZsAytNZ4ww67Od\") #Generic Genius account ID\n",
    "artist = genius.search_artist(artist, max_songs=max_songs, sort=\"popularity\")\n",
    "songs=artist.songs"
   ]
  },
  {
   "cell_type": "markdown",
   "metadata": {},
   "source": [
    "Compile list of lines from each type of song section."
   ]
  },
  {
   "cell_type": "code",
   "execution_count": 8,
   "metadata": {},
   "outputs": [],
   "source": [
    "#Separation of songs into sections for future adaptation of lyric generation\n",
    "section_types={}\n",
    "section_types[0]='All'\n",
    "section_types[1]='Chorus'\n",
    "section_types[2]='Verse'\n",
    "section_types[3]='Pre-Chorus'\n",
    "section_types[4]='Bridge'\n",
    "section_types[5]='Break'\n",
    "word=[]\n",
    "bigolelist=[[] for z in range(0,len(section_types))]"
   ]
  },
  {
   "cell_type": "code",
   "execution_count": 9,
   "metadata": {},
   "outputs": [],
   "source": [
    "#Append all lyrics from all loaded songs\n",
    "for x in range(0,max_songs): #CHANGE RANGE FOR DIFFERENT # OF SONGS\n",
    "    song=songs[x]\n",
    "    lines=song.lyrics.split('\\n')\n",
    "    sections=song.lyrics.split('\\n\\n')\n",
    "    for i in range(0,len(sections)):\n",
    "        for j in range(0,len(lines)):\n",
    "            for k in range(1,len(section_types)):\n",
    "                if '['+section_types[k] in lines[j]:\n",
    "                    bigolelist[k].append(lines[(j+1):])\n",
    "                    bigolelist[0].append(' '.join(lines[(j+1):]))\n",
    "                        "
   ]
  },
  {
   "cell_type": "markdown",
   "metadata": {},
   "source": [
    "Create dictionary of words and characters."
   ]
  },
  {
   "cell_type": "code",
   "execution_count": 10,
   "metadata": {},
   "outputs": [],
   "source": [
    "allwords=' '.join(bigolelist[0])"
   ]
  },
  {
   "cell_type": "code",
   "execution_count": 11,
   "metadata": {},
   "outputs": [],
   "source": [
    "#Filter out unnecessary punctuation and section titles from lyrics\n",
    "allwords = allwords.replace(\"\\\\\\'\",\"\")\n",
    "allwords = allwords.replace('[','')\n",
    "allwords = allwords.replace(']','')\n",
    "allwords = allwords.replace(':','') #E.G. 'VERSE 2:'\n",
    "allwords = allwords.replace('Intro','')\n",
    "allwords = allwords.replace('Verse','')\n",
    "allwords = allwords.replace('Pre-Chorus','')\n",
    "allwords = allwords.replace('Chorus','')\n",
    "allwords = allwords.replace('Bridge','')\n",
    "allwords = allwords.replace('Outro','')\n",
    "allwords = allwords.replace('”','')\n",
    "allwords = allwords.replace('’','')\n",
    "allwords = allwords.replace('\\'','')\n",
    "# allwords = allwords.replace(artist,'') #UNCOMMENT ELIMINTATES SELF NAME\n",
    "\n",
    "\n",
    "# allwords  #UNCOMMENT PRINTS WHOLE TEXT"
   ]
  },
  {
   "cell_type": "code",
   "execution_count": 12,
   "metadata": {},
   "outputs": [],
   "source": [
    "#Converts all text to 256 ASCII numeric representation\n",
    "fullnum=[]\n",
    "for c in range(0,len(allwords)):\n",
    "    y=ord(allwords[c])\n",
    "    if y<256:\n",
    "        fullnum.append(y)\n",
    "txtlength=len(fullnum)\n",
    "\n",
    "#fullnum #UNCOMMENT PRINTS WHOLE TEXT IN ASCII NUMBER FORMAT"
   ]
  },
  {
   "cell_type": "code",
   "execution_count": 13,
   "metadata": {},
   "outputs": [],
   "source": [
    "import nltk\n",
    "# nltk.download() #Uncomment to download 'punkt' extension if prompted\n",
    "sents=sent_tokenize(allwords) #SWAPPED FROM SENTENCES TO WORDS\n",
    "sents=sent_tokenize(allwords)"
   ]
  },
  {
   "cell_type": "code",
   "execution_count": 14,
   "metadata": {},
   "outputs": [],
   "source": [
    "#Appends ASCII characters to sequence inputs and outputs as training data\n",
    "sequence_length=20\n",
    "dataX=[]\n",
    "dataY=[]\n",
    "for i in range(0,txtlength-sequence_length):\n",
    "    seq_in=allwords[i:i+sequence_length]\n",
    "    seq_out=allwords[i+sequence_length]\n",
    "    dataX.append(seq_in)\n",
    "    dataY.append(seq_out)"
   ]
  },
  {
   "cell_type": "code",
   "execution_count": 15,
   "metadata": {},
   "outputs": [],
   "source": [
    "#Filters out empty/ null/ NaN sequences\n",
    "Y =  []\n",
    "keep = []\n",
    "data_X=np.asarray(dataX)\n",
    "data_Y=np.asarray(dataY)\n",
    "for i in range(0, len(data_X)):\n",
    "    if int(ord(dataY[i]))<256:\n",
    "        Y.append(int(ord(dataY[i])))\n",
    "        keep.append(i)\n",
    "        \n",
    "        \n",
    "        \n",
    "x = np.zeros((len(Y),sequence_length))\n",
    "for i in range(0,len(Y)):\n",
    "    k=keep[i]\n",
    "    for j in range(0, sequence_length):\n",
    "       \n",
    "        x[i, j] = ord(list(dataX[k])[j])\n",
    "    \n",
    "            \n",
    "            \n"
   ]
  },
  {
   "cell_type": "code",
   "execution_count": 16,
   "metadata": {},
   "outputs": [],
   "source": [
    "X = x/256\n",
    "X=np.reshape(X,(np.shape(X)[0],sequence_length,1))"
   ]
  },
  {
   "cell_type": "code",
   "execution_count": 14,
   "metadata": {},
   "outputs": [
    {
     "name": "stdout",
     "output_type": "stream",
     "text": [
      "WARNING:tensorflow:From /home/ben/.local/lib/python3.6/site-packages/tensorflow/python/keras/_impl/keras/backend.py:1456: calling reduce_sum (from tensorflow.python.ops.math_ops) with keep_dims is deprecated and will be removed in a future version.\n",
      "Instructions for updating:\n",
      "keep_dims is deprecated, use keepdims instead\n",
      "WARNING:tensorflow:From /home/ben/.local/lib/python3.6/site-packages/tensorflow/python/keras/_impl/keras/backend.py:1557: calling reduce_mean (from tensorflow.python.ops.math_ops) with keep_dims is deprecated and will be removed in a future version.\n",
      "Instructions for updating:\n",
      "keep_dims is deprecated, use keepdims instead\n",
      "WARNING:tensorflow:From /home/ben/.local/lib/python3.6/site-packages/tensorflow/python/keras/_impl/keras/backend.py:1422: calling reduce_max (from tensorflow.python.ops.math_ops) with keep_dims is deprecated and will be removed in a future version.\n",
      "Instructions for updating:\n",
      "keep_dims is deprecated, use keepdims instead\n"
     ]
    }
   ],
   "source": [
    "#Defines LSTM based model\n",
    "model=Sequential()\n",
    "model.add(LSTM(256,input_shape=(X.shape[1],X.shape[2]), return_sequences=True))\n",
    "model.add(Dropout(0.25))\n",
    "model.add(Bidirectional(LSTM(256)))\n",
    "model.add(Dropout(0.25))\n",
    "model.add(Dense(256,activation='softmax'))\n",
    "opt = optimizers.Adam(lr=0.001, clipvalue=.5)\n",
    "model.compile(loss='sparse_categorical_crossentropy',metrics=['sparse_categorical_accuracy'],optimizer=opt)\n"
   ]
  },
  {
   "cell_type": "code",
   "execution_count": 15,
   "metadata": {},
   "outputs": [
    {
     "name": "stdout",
     "output_type": "stream",
     "text": [
      "Epoch 1/20\n",
      "8376320/8376631 [============================>.]8376320/8376631 [============================>.] - ETA: 0s - loss: 0.9294 - sparse_categorical_accuracy: 0.7545Epoch 00001: saving model to princeLR001clip5.01-0.93.hdf5\n",
      "8376631/8376631 [==============================]8376631/8376631 [==============================] - 1530s 183us/step - loss: 0.9294 - sparse_categorical_accuracy: 0.7545\n",
      "\n",
      "Epoch 2/20\n",
      "8376320/8376631 [============================>.]8376320/8376631 [============================>.] - ETA: 0s - loss: 0.2106 - sparse_categorical_accuracy: 0.9433Epoch 00002: saving model to princeLR001clip5.02-0.21.hdf5\n",
      "8376631/8376631 [==============================]8376631/8376631 [==============================] - 1531s 183us/step - loss: 0.2106 - sparse_categorical_accuracy: 0.9433\n",
      "\n",
      "Epoch 3/20\n",
      "8376320/8376631 [============================>.]8376320/8376631 [============================>.] - ETA: 0s - loss: 0.1480 - sparse_categorical_accuracy: 0.9587Epoch 00003: saving model to princeLR001clip5.03-0.15.hdf5\n",
      "8376631/8376631 [==============================]8376631/8376631 [==============================] - 1545s 184us/step - loss: 0.1480 - sparse_categorical_accuracy: 0.9587\n",
      "\n",
      "Epoch 4/20\n",
      "8376320/8376631 [============================>.]8376320/8376631 [============================>.] - ETA: 0s - loss: 0.1214 - sparse_categorical_accuracy: 0.9655Epoch 00004: saving model to princeLR001clip5.04-0.12.hdf5\n",
      "8376631/8376631 [==============================]8376631/8376631 [==============================] - 1561s 186us/step - loss: 0.1214 - sparse_categorical_accuracy: 0.9655\n",
      "\n",
      "Epoch 5/20\n",
      "8376320/8376631 [============================>.]8376320/8376631 [============================>.] - ETA: 0s - loss: 0.1065 - sparse_categorical_accuracy: 0.9692Epoch 00005: saving model to princeLR001clip5.05-0.11.hdf5\n",
      "8376631/8376631 [==============================]8376631/8376631 [==============================] - 1578s 188us/step - loss: 0.1065 - sparse_categorical_accuracy: 0.9692\n",
      "\n",
      "Epoch 6/20\n",
      "8376320/8376631 [============================>.]8376320/8376631 [============================>.] - ETA: 0s - loss: 0.0970 - sparse_categorical_accuracy: 0.9718Epoch 00006: saving model to princeLR001clip5.06-0.10.hdf5\n",
      "8376631/8376631 [==============================]8376631/8376631 [==============================] - 1591s 190us/step - loss: 0.0970 - sparse_categorical_accuracy: 0.9718\n",
      "\n",
      "Epoch 7/20\n",
      "8376320/8376631 [============================>.]8376320/8376631 [============================>.] - ETA: 0s - loss: 0.0889 - sparse_categorical_accuracy: 0.9740Epoch 00007: saving model to princeLR001clip5.07-0.09.hdf5\n",
      "8376631/8376631 [==============================]8376631/8376631 [==============================] - 1592s 190us/step - loss: 0.0889 - sparse_categorical_accuracy: 0.9740\n",
      "\n",
      "Epoch 8/20\n",
      "8376320/8376631 [============================>.]8376320/8376631 [============================>.] - ETA: 0s - loss: 0.0830 - sparse_categorical_accuracy: 0.9756Epoch 00008: saving model to princeLR001clip5.08-0.08.hdf5\n",
      "8376631/8376631 [==============================]8376631/8376631 [==============================] - 1592s 190us/step - loss: 0.0830 - sparse_categorical_accuracy: 0.9756\n",
      "\n",
      "Epoch 9/20\n",
      "8376320/8376631 [============================>.]8376320/8376631 [============================>.] - ETA: 0s - loss: 0.0787 - sparse_categorical_accuracy: 0.9767Epoch 00009: saving model to princeLR001clip5.09-0.08.hdf5\n",
      "8376631/8376631 [==============================]8376631/8376631 [==============================] - 1592s 190us/step - loss: 0.0787 - sparse_categorical_accuracy: 0.9767\n",
      "\n",
      "Epoch 10/20\n",
      "8376320/8376631 [============================>.]8376320/8376631 [============================>.] - ETA: 0s - loss: 0.0747 - sparse_categorical_accuracy: 0.9777Epoch 00010: saving model to princeLR001clip5.10-0.07.hdf5\n",
      "8376631/8376631 [==============================]8376631/8376631 [==============================] - 1592s 190us/step - loss: 0.0747 - sparse_categorical_accuracy: 0.9777\n",
      "\n",
      "Epoch 11/20\n",
      "8376320/8376631 [============================>.]8376320/8376631 [============================>.] - ETA: 0s - loss: 0.0714 - sparse_categorical_accuracy: 0.9787Epoch 00011: saving model to princeLR001clip5.11-0.07.hdf5\n",
      "8376631/8376631 [==============================]8376631/8376631 [==============================] - 1592s 190us/step - loss: 0.0714 - sparse_categorical_accuracy: 0.9787\n",
      "\n",
      "Epoch 12/20\n",
      "8376320/8376631 [============================>.]8376320/8376631 [============================>.] - ETA: 0s - loss: 0.0686 - sparse_categorical_accuracy: 0.9794Epoch 00012: saving model to princeLR001clip5.12-0.07.hdf5\n",
      "8376631/8376631 [==============================]8376631/8376631 [==============================] - 1592s 190us/step - loss: 0.0686 - sparse_categorical_accuracy: 0.9794\n",
      "\n",
      "Epoch 13/20\n",
      "8376320/8376631 [============================>.]8376320/8376631 [============================>.] - ETA: 0s - loss: 0.0660 - sparse_categorical_accuracy: 0.9802Epoch 00013: saving model to princeLR001clip5.13-0.07.hdf5\n",
      "8376631/8376631 [==============================]8376631/8376631 [==============================] - 1592s 190us/step - loss: 0.0660 - sparse_categorical_accuracy: 0.9802\n",
      "\n",
      "Epoch 14/20\n",
      "8376320/8376631 [============================>.]8376320/8376631 [============================>.] - ETA: 0s - loss: 0.0633 - sparse_categorical_accuracy: 0.9809Epoch 00014: saving model to princeLR001clip5.14-0.06.hdf5\n",
      "8376631/8376631 [==============================]8376631/8376631 [==============================] - 1592s 190us/step - loss: 0.0633 - sparse_categorical_accuracy: 0.9809\n",
      "\n",
      "Epoch 15/20\n",
      "8376320/8376631 [============================>.]8376320/8376631 [============================>.] - ETA: 0s - loss: 0.0616 - sparse_categorical_accuracy: 0.9814Epoch 00015: saving model to princeLR001clip5.15-0.06.hdf5\n",
      "8376631/8376631 [==============================]8376631/8376631 [==============================] - 1592s 190us/step - loss: 0.0616 - sparse_categorical_accuracy: 0.9814\n",
      "\n",
      "Epoch 16/20\n",
      "8376320/8376631 [============================>.]8376320/8376631 [============================>.] - ETA: 0s - loss: 0.0594 - sparse_categorical_accuracy: 0.9820Epoch 00016: saving model to princeLR001clip5.16-0.06.hdf5\n",
      "8376631/8376631 [==============================]8376631/8376631 [==============================] - 1592s 190us/step - loss: 0.0594 - sparse_categorical_accuracy: 0.9820\n",
      "\n",
      "Epoch 17/20\n",
      "8376320/8376631 [============================>.]8376320/8376631 [============================>.] - ETA: 0s - loss: 0.0575 - sparse_categorical_accuracy: 0.9825Epoch 00017: saving model to princeLR001clip5.17-0.06.hdf5\n",
      "8376631/8376631 [==============================]8376631/8376631 [==============================] - 1593s 190us/step - loss: 0.0575 - sparse_categorical_accuracy: 0.9825\n",
      "\n",
      "Epoch 18/20\n",
      "8376320/8376631 [============================>.]8376320/8376631 [============================>.] - ETA: 0s - loss: 0.0558 - sparse_categorical_accuracy: 0.9830Epoch 00018: saving model to princeLR001clip5.18-0.06.hdf5\n",
      "8376631/8376631 [==============================]8376631/8376631 [==============================] - 1597s 191us/step - loss: 0.0558 - sparse_categorical_accuracy: 0.9830\n",
      "\n",
      "Epoch 19/20\n",
      "8376320/8376631 [============================>.]8376320/8376631 [============================>.] - ETA: 0s - loss: 0.0542 - sparse_categorical_accuracy: 0.9835Epoch 00019: saving model to princeLR001clip5.19-0.05.hdf5\n",
      "8376631/8376631 [==============================]8376631/8376631 [==============================] - 1559s 186us/step - loss: 0.0542 - sparse_categorical_accuracy: 0.9835\n",
      "\n",
      "Epoch 20/20\n",
      "8376320/8376631 [============================>.]8376320/8376631 [============================>.] - ETA: 0s - loss: 0.0530 - sparse_categorical_accuracy: 0.9838Epoch 00020: saving model to princeLR001clip5.20-0.05.hdf5\n",
      "8376631/8376631 [==============================]8376631/8376631 [==============================] - 1541s 184us/step - loss: 0.0530 - sparse_categorical_accuracy: 0.9838\n",
      "\n"
     ]
    },
    {
     "data": {
      "text/plain": [
       "<tensorflow.python.keras._impl.keras.callbacks.History at 0x7fd0a06b46d8>"
      ]
     },
     "execution_count": 15,
     "metadata": {},
     "output_type": "execute_result"
    }
   ],
   "source": [
    "#Fits and runs model for training\n",
    "filepath='princeLR001clip5TWO.{epoch:02d}-{loss:.2f}.hdf5' #GENERIC FILENAME SAVE PATH USED FOR GENERATION MODEL LATER\n",
    "checkpoint=ModelCheckpoint(filepath,verbose=1,save_best_only=False,period = 1)\n",
    "callbacks_list=[checkpoint]\n",
    "model.fit(X,Y,epochs=20,batch_size=512,callbacks=callbacks_list)"
   ]
  },
  {
   "cell_type": "code",
   "execution_count": 32,
   "metadata": {},
   "outputs": [
    {
     "name": "stdout",
     "output_type": "stream",
     "text": [
      "Seed: \n",
      "\" hey yeah this is a s \"\n"
     ]
    }
   ],
   "source": [
    "import sys\n",
    "#define LSTM model for lyric generation\n",
    "model=Sequential()\n",
    "model.add(LSTM(256,input_shape=(X.shape[1],X.shape[2]), return_sequences=True))\n",
    "model.add(Dropout(0.25))\n",
    "model.add(Bidirectional(LSTM(256)))\n",
    "model.add(Dropout(0.25))\n",
    "model.add(Dense(256,activation='softmax'))\n",
    "\n",
    "filename = 'princeLR001clip5.10-0.07.hdf5' #CHANGE THIS TO MATCH A SAVED MODEL FROM ABOVE\n",
    "model.load_weights(filename)\n",
    "\n",
    "model.compile(loss='sparse_categorical_crossentropy',optimizer='adam')\n",
    "\n",
    "#define seed\n",
    "#start = np.random.randint(0,len(dataX)-1) #UNCOMMENT THIS AND BELOW LINE FOR RANDOM PATTERN GENERATION\n",
    "#our_seed= dataX[start] \n",
    "\n",
    "# our_seed = 'when i go and cry like a bab' #UNCOMMENT THIS OR BELOW LINE FOR PREDETERMINED SEEDS\n",
    "# our_seed = 'when i look up i see a shining'\n",
    "our_seed = 'hey yeah this is a song' #EDITABLE SEED, MUST BE OVER 20 CHARACTERS\n",
    "pattern=[]\n",
    "for c in range(sequence_length):\n",
    "    num=ord(our_seed[c])\n",
    "    pattern.append(num/256)\n",
    "\n",
    "print('Seed: ')\n",
    "print(\"\\\"\",''.join([chr(int(value*256)) for value in pattern]), \"\\\"\")"
   ]
  },
  {
   "cell_type": "code",
   "execution_count": 33,
   "metadata": {},
   "outputs": [],
   "source": [
    "len(pattern)\n",
    "fullpattern=[]\n",
    "fullpattern = pattern"
   ]
  },
  {
   "cell_type": "code",
   "execution_count": 34,
   "metadata": {},
   "outputs": [
    {
     "name": "stdout",
     "output_type": "stream",
     "text": [
      "104\n",
      "108\n",
      "104\n",
      "111\n",
      "32\n",
      "100\n",
      "117\n",
      "115\n",
      "116\n",
      "32\n",
      "102\n",
      "101\n",
      "117\n",
      "32\n",
      "116\n",
      "97\n",
      "32\n",
      "116\n",
      "104\n",
      "101\n",
      "108\n",
      "111\n",
      "32\n",
      "119\n",
      "97\n",
      "109\n",
      "116\n",
      "32\n",
      "116\n",
      "111\n",
      "117\n",
      "99\n",
      "32\n",
      "97\n",
      "105\n",
      "111\n",
      "32\n",
      "32\n",
      "98\n",
      "110\n",
      "111\n",
      "116\n",
      "105\n",
      "44\n",
      "115\n",
      "111\n",
      "117\n",
      "32\n",
      "119\n",
      "111\n",
      "117\n",
      "108\n",
      "117\n",
      "32\n",
      "105\n",
      "97\n",
      "116\n",
      "114\n",
      "105\n",
      "101\n",
      "103\n",
      "32\n",
      "121\n",
      "101\n",
      "114\n",
      "115\n",
      "32\n",
      "116\n",
      "111\n",
      "105\n",
      "107\n",
      "32\n",
      "104\n",
      "110\n",
      "32\n",
      "111\n",
      "111\n",
      "117\n",
      "101\n",
      "97\n",
      "97\n",
      "116\n",
      "32\n",
      "107\n",
      "105\n",
      "115\n",
      "104\n",
      "117\n",
      "32\n",
      "84\n",
      "111\n",
      "112\n",
      "32\n",
      "97\n",
      "114\n",
      "101\n",
      "32\n",
      "111\n",
      "101\n",
      "32\n",
      "109\n",
      "104\n",
      "101\n",
      "109\n",
      "32\n",
      "115\n",
      "105\n",
      "32\n",
      "116\n",
      "110\n",
      "101\n",
      "110\n",
      "32\n",
      "76\n",
      "116\n",
      "111\n",
      "32\n",
      "117\n",
      "110\n",
      "101\n",
      "32\n",
      "110\n",
      "101\n",
      "101\n",
      "101\n",
      "32\n",
      "104\n",
      "101\n",
      "32\n",
      "116\n",
      "111\n",
      "122\n",
      "32\n",
      "117\n",
      "110\n",
      "101\n",
      "107\n",
      "121\n",
      "32\n",
      "109\n",
      "111\n",
      "109\n",
      "108\n",
      "104\n",
      "104\n",
      "32\n",
      "109\n",
      "111\n",
      "116\n",
      "32\n",
      "\" hey yeah this is a shhlho dust feu ta thelo wamt touc aio  bnoti,sou woulu iatrieg yers toik hn ooueaat kishu Top are oe mhem si tnen Lto une neee he toz uneky momlhh mot  \"\n",
      "\n",
      "Done!\n"
     ]
    }
   ],
   "source": [
    "#Generates text based on loaded model\n",
    "\n",
    "\n",
    "for i in range(150):\n",
    "\n",
    "    x = np.reshape(pattern,(1,sequence_length,1))\n",
    "\n",
    "    prediction = model.predict(x,verbose = 0)\n",
    "\n",
    "    index = np.argmax(prediction)\n",
    "    print(index)\n",
    "    result = chr(int(index))\n",
    "\n",
    "    seq_in = [chr(int(value*256)) for value in pattern]\n",
    "\n",
    "    #sys.stdout.write(result)\n",
    "\n",
    "    pattern.append(index/256)\n",
    "    pattern = pattern[1:len(pattern)]\n",
    "    fullpattern.append(index/256)\n",
    "\n",
    "#     if i%4==0:\n",
    "#         print(\"\\n\")\n",
    "print(\"\\\"\",''.join([chr(int(value*256)) for value in fullpattern]), \"\\\"\")\n",
    "print(\"\\nDone!\")"
   ]
  },
  {
   "cell_type": "code",
   "execution_count": 64,
   "metadata": {},
   "outputs": [
    {
     "data": {
      "text/plain": [
       "(0, 1)"
      ]
     },
     "execution_count": 64,
     "metadata": {},
     "output_type": "execute_result"
    },
    {
     "data": {
      "image/png": "[encoded data removed]",
      "text/plain": [
       "<Figure size 432x288 with 1 Axes>"
      ]
     },
     "metadata": {
      "needs_background": "light"
     },
     "output_type": "display_data"
    }
   ],
   "source": [
    "#Loss Plot\n",
    "import matplotlib.pyplot as plt\n",
    "the_loss = [0, .9294, .2106, .1480, .1214, .1065, .0970, .0889, .0830, .0787, .0747, .0714, .0686, .0660, .0633 ,.0616, .0594, .0575, .0558, .0542, .0530,]\n",
    "the_acc = [0, .7545, .9433, .9587, .9655, .9692, .9718, .9740, .9756, .9767, .9777 ,.9787, .9794 ,.9802 ,.9809 ,.9814, .9820, .9825, .9830, .9835, .9838]\n",
    "plt.plot(the_loss)\n",
    "plt.title('sparse_categorical_crossentropy')\n",
    "plt.xlabel('Epochs')\n",
    "plt.ylabel('Loss')\n",
    "plt.xlim((1,20))\n",
    "plt.ylim((0,1))"
   ]
  },
  {
   "cell_type": "code",
   "execution_count": 62,
   "metadata": {},
   "outputs": [
    {
     "data": {
      "text/plain": [
       "(0, 1)"
      ]
     },
     "execution_count": 62,
     "metadata": {},
     "output_type": "execute_result"
    },
    {
     "data": {
      "image/png": "[encoded data removed]",
      "text/plain": [
       "<Figure size 432x288 with 1 Axes>"
      ]
     },
     "metadata": {
      "needs_background": "light"
     },
     "output_type": "display_data"
    }
   ],
   "source": [
    "#Accuracy Plot\n",
    "plt.plot(the_acc)\n",
    "plt.title('sparse_categorical_accuracy')\n",
    "plt.xlabel('Epochs')\n",
    "plt.ylabel('Accuracy')\n",
    "plt.xlim((1,20))\n",
    "plt.ylim((0,1))"
   ]
  },
  {
   "cell_type": "code",
   "execution_count": 63,
   "metadata": {},
   "outputs": [
    {
     "data": {
      "text/plain": [
       "(0.7, 1)"
      ]
     },
     "execution_count": 63,
     "metadata": {},
     "output_type": "execute_result"
    },
    {
     "data": {
      "image/png": "[encoded data removed]",
      "text/plain": [
       "<Figure size 432x288 with 1 Axes>"
      ]
     },
     "metadata": {
      "needs_background": "light"
     },
     "output_type": "display_data"
    }
   ],
   "source": [
    "#Zoomed Accuracy Plot\n",
    "plt.plot(the_acc)\n",
    "plt.title('sparse_categorical_accuracy (Enhanced)')\n",
    "plt.xlabel('Epochs')\n",
    "plt.ylabel('Accuracy')\n",
    "plt.xlim((1,20))\n",
    "plt.ylim((.7,1))"
   ]
  },
  {
   "cell_type": "code",
   "execution_count": null,
   "metadata": {},
   "outputs": [],
   "source": []
  },
  {
   "cell_type": "code",
   "execution_count": null,
   "metadata": {},
   "outputs": [],
   "source": []
  },
  {
   "cell_type": "code",
   "execution_count": null,
   "metadata": {},
   "outputs": [],
   "source": []
  },
  {
   "cell_type": "code",
   "execution_count": null,
   "metadata": {},
   "outputs": [],
   "source": []
  }
 ],
 "metadata": {
  "kernelspec": {
   "display_name": "Python 3",
   "language": "python",
   "name": "python3"
  },
  "language_info": {
   "codemirror_mode": {
    "name": "ipython",
    "version": 3
   },
   "file_extension": ".py",
   "mimetype": "text/x-python",
   "name": "python",
   "nbconvert_exporter": "python",
   "pygments_lexer": "ipython3",
   "version": "3.6.6"
  }
 },
 "nbformat": 4,
 "nbformat_minor": 2
}
